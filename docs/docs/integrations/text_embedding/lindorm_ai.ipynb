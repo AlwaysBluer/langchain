{
 "cells": [
  {
   "cell_type": "markdown",
   "metadata": {},
   "source": [
    "## Lindorm Embedding\n",
    "This notebook covers how to get started with Lindorm Embedding AI model."
   ]
  },
  {
   "metadata": {
    "ExecuteTime": {
     "end_time": "2024-07-24T02:05:51.857436Z",
     "start_time": "2024-07-24T02:05:51.762532Z"
    }
   },
   "cell_type": "code",
   "source": [
    "from lindormai.model_manager import ModelManager\n",
    "import environs\n",
    "\n",
    "env = environs.Env()\n",
    "env.read_env(\".env\")\n",
    "\n",
    "\n",
    "class Config:\n",
    "    AI_EMB_ENDPOINT = env.str(\"AI_EMB_ENDPOINT\", '<EMB_ENDPOINT>')\n",
    "    AI_USERNAME = env.str(\"AI_USERNAME\", 'root')\n",
    "    AI_PWD = env.str(\"AI_PWD\", '<PASSWORD>')\n",
    "\n",
    "    AI_DEFAULT_RERANK_MODEL = \"rerank_bge_large\"\n",
    "    AI_DEFAULT_EMBEDDING_MODEL = \"bge-large-zh-v1.5\"\n",
    "    AI_DEFAULT_XIAOBU2_EMBEDDING_MODEL = \"xiaobu2\"\n",
    "\n",
    "LDAI_EMB_ENDPOINT=Config.AI_EMB_ENDPOINT\n",
    "LDAI_EMB_USERNAME=Config.AI_USERNAME\n",
    "LDAI_EMB_PWD=Config.AI_PWD"
   ],
   "execution_count": 1,
   "outputs": []
  },
  {
   "cell_type": "markdown",
   "metadata": {},
   "source": [
    "## Define Helper functions"
   ]
  },
  {
   "cell_type": "code",
   "metadata": {
    "ExecuteTime": {
     "end_time": "2024-07-24T02:05:54.600274Z",
     "start_time": "2024-07-24T02:05:54.596897Z"
    }
   },
   "source": [
    "def check_model_exist(model_mgr, model_name):\n",
    "    model_list = model_mgr.list()\n",
    "    for model in model_list:\n",
    "        if model_name == model['name'] and 'READY' == model['status']:\n",
    "            return True\n",
    "    return False\n",
    "\n",
    "def create_emb_model(model_mgr, model_name, path, algo):\n",
    "    task = \"FEATURE_EXTRACTION\"\n",
    "    result = model_mgr.create(name=model_name, task=task, path=path, algo=algo)\n",
    "    return result\n",
    "\n",
    "def create_rerank_model(model_mgr, model_name, path, algo):\n",
    "    task = \"SEMANTIC_SIMILARITY\"\n",
    "    result = model_mgr.create(name=model_name, task=task, path=path, algo=algo)\n",
    "    return result"
   ],
   "execution_count": 2,
   "outputs": []
  },
  {
   "cell_type": "markdown",
   "metadata": {},
   "source": [
    "## Create & Deploy Embedding Model"
   ]
  },
  {
   "cell_type": "code",
   "metadata": {
    "ExecuteTime": {
     "end_time": "2024-07-23T09:25:06.088025Z",
     "start_time": "2024-07-23T09:25:05.459218Z"
    }
   },
   "source": [
    "ldai_model_mgr = ModelManager(LDAI_EMB_ENDPOINT, LDAI_EMB_USERNAME, LDAI_EMB_PWD)\n",
    "\n",
    "emb_model_name = 'bge_model'\n",
    "emb_model_path = \"huggingface://BAAI/bge-large-zh-v1.5\"\n",
    "emb_model_algo = \"BGE_LARGE_ZH\"\n",
    "\n",
    "if not check_model_exist(ldai_model_mgr, emb_model_name):\n",
    "    print('model not exist! will create')\n",
    "    create_emb_model(ldai_model_mgr, emb_model_name, emb_model_path, emb_model_algo)\n",
    "else:\n",
    "    print(f'model {emb_model_name} exist!')"
   ],
   "execution_count": 4,
   "outputs": []
  },
  {
   "cell_type": "markdown",
   "metadata": {},
   "source": [
    "## Init LindormAIEmbeddings"
   ]
  },
  {
   "cell_type": "code",
   "metadata": {
    "ExecuteTime": {
     "end_time": "2024-07-17T02:49:02.819467Z",
     "start_time": "2024-07-17T02:49:02.816108Z"
    }
   },
   "source": [
    "from langchain_community.embeddings.lindorm_embedding import LindormAIEmbeddings\n",
    "\n",
    "ldai_emb = LindormAIEmbeddings(endpoint=LDAI_EMB_ENDPOINT, username=LDAI_EMB_USERNAME, password=LDAI_EMB_PWD, model_name=emb_model_name)"
   ],
   "execution_count": 8,
   "outputs": []
  },
  {
   "cell_type": "markdown",
   "metadata": {},
   "source": [
    "## Embed single query"
   ]
  },
  {
   "cell_type": "code",
   "metadata": {
    "ExecuteTime": {
     "end_time": "2024-07-17T02:49:06.958717Z",
     "start_time": "2024-07-17T02:49:06.811384Z"
    }
   },
   "source": [
    "query = '辛弃疾'\n",
    "response = ldai_emb.embed_query(query)\n",
    "print(f\"emb result: {response}\")"
   ],
   "execution_count": 9,
   "outputs": []
  },
  {
   "cell_type": "markdown",
   "metadata": {},
   "source": [
    "## Embed multiple documents"
   ]
  },
  {
   "cell_type": "code",
   "metadata": {
    "ExecuteTime": {
     "end_time": "2024-07-17T02:49:45.172244Z",
     "start_time": "2024-07-17T02:49:44.890615Z"
    }
   },
   "source": [
    "import random\n",
    "import string\n",
    "\n",
    "docs = []\n",
    "\n",
    "for i in range(10):\n",
    "    doc = ''.join(random.choices(string.ascii_letters + string.digits, k=10))\n",
    "    docs.append(doc)\n",
    "\n",
    "response = ldai_emb.embed_documents(docs)\n",
    "print(f\"emb result: {response[0]}\")"
   ],
   "execution_count": 11,
   "outputs": []
  },
  {
   "cell_type": "markdown",
   "metadata": {},
   "source": [
    "## Create & Deploy Rerank Model"
   ]
  },
  {
   "cell_type": "code",
   "metadata": {
    "ExecuteTime": {
     "end_time": "2024-07-17T02:50:11.758904Z",
     "start_time": "2024-07-17T02:50:11.635214Z"
    }
   },
   "source": [
    "\n",
    "rerank_model_name = 'rerank_bge_large'\n",
    "rerank_model_path = \"huggingface://BAAI/bge-reranker-large\"\n",
    "rerank_model_algo = \"BGE_RERANKER_LARGE\"\n",
    "\n",
    "if not check_model_exist(ldai_model_mgr, rerank_model_name):\n",
    "    print('model not exist! will create')\n",
    "    create_rerank_model(ldai_model_mgr, rerank_model_name, rerank_model_path, rerank_model_algo)\n",
    "else:\n",
    "    print(f'model {rerank_model_name} exist!')"
   ],
   "execution_count": 12,
   "outputs": []
  },
  {
   "cell_type": "markdown",
   "metadata": {},
   "source": [
    "## Init LindormAIRerank"
   ]
  },
  {
   "cell_type": "code",
   "metadata": {
    "ExecuteTime": {
     "end_time": "2024-07-17T02:50:59.083932Z",
     "start_time": "2024-07-17T02:50:59.067503Z"
    }
   },
   "source": [
    "from langchain_community.document_compressors.lindormai_rerank import LindormAIRerank\n",
    "\n",
    "ldai_rerank = LindormAIRerank(endpoint=LDAI_EMB_ENDPOINT, username=LDAI_EMB_USERNAME, password=LDAI_EMB_PWD, model_name=rerank_model_name)"
   ],
   "execution_count": 13,
   "outputs": []
  },
  {
   "cell_type": "markdown",
   "metadata": {},
   "source": [
    "## Rerank documents"
   ]
  },
  {
   "cell_type": "code",
   "metadata": {
    "ExecuteTime": {
     "end_time": "2024-07-17T02:51:06.757905Z",
     "start_time": "2024-07-17T02:51:06.525800Z"
    }
   },
   "source": [
    "from langchain_core.documents import Document\n",
    "\n",
    "docs = []\n",
    "doc1 = Document('一只小狗')\n",
    "doc2 = Document('一个滑滑梯')\n",
    "docs.append(doc1)\n",
    "docs.append(doc2)\n",
    "\n",
    "result = ldai_rerank.compress_documents(docs, '两只小狗')\n",
    "print(result)"
   ],
   "execution_count": 14,
   "outputs": []
  }
 ],
 "metadata": {
  "kernelspec": {
   "display_name": "python39",
   "language": "python",
   "name": "python3"
  },
  "language_info": {
   "codemirror_mode": {
    "name": "ipython",
    "version": 3
   },
   "file_extension": ".py",
   "mimetype": "text/x-python",
   "name": "python",
   "nbconvert_exporter": "python",
   "pygments_lexer": "ipython3",
   "version": "3.9.18"
  }
 },
 "nbformat": 4,
 "nbformat_minor": 2
}
