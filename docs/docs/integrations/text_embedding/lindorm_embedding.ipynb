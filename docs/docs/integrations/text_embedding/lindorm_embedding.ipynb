{
 "cells": [
  {
   "cell_type": "raw",
   "id": "afaf8039",
   "metadata": {},
   "source": [
    "---\n",
    "sidebar_label: Lindorm\n",
    "---"
   ]
  },
  {
   "cell_type": "markdown",
   "id": "9a3d6f34",
   "metadata": {},
   "source": [
    "# LindormEmbeddings\n",
    "\n",
    "This will help you get started with Lindorm embedding models using LangChain. For detailed documentation on `LindormEmbeddings` features and configuration options, please refer to the [API reference](https://help.aliyun.com/document_detail/2401805.html?spm=a2c4g.11186623.help-menu-172543.d_2_7_3_3.466534e93Xj6tt).\n",
    "\n",
    "## Overview\n",
    "### Integration details\n",
    "\n",
    "| Provider | Package |\n",
    "|:--------:|:-------:|\n",
    "| [Lindorm](/docs/integrations/providers/lindorm-embedding/) | |\n",
    "\n",
    "## Setup\n",
    "\n",
    "To access Lindorm models you'll need to deploy a Lindorm instance, configuring you Lindorm AK ans SK.\n",
    "\n",
    "### Credentials\n",
    "\n",
    "You can get you credentials in the [console](https://lindorm.console.aliyun.com/cn-hangzhou/clusterhou/cluster?spm=a2c4g.11186623.0.0.466534e93Xj6tt)"
   ]
  },
  {
   "cell_type": "code",
   "execution_count": null,
   "id": "36521c2a",
   "metadata": {},
   "outputs": [],
   "source": [
    "import os\n",
    "\n",
    "\n",
    "class Config:\n",
    "    AI_LLM_ENDPOINT = os.environ.get(\"AI_ENDPOINT\", \"<AI_ENDPOINT>\")\n",
    "    AI_USERNAME = os.environ.get(\"AI_USERNAME\", \"root\")\n",
    "    AI_PWD = os.environ.get(\"AI_PASSWORD\", \"<PASSWORD>\")\n",
    "\n",
    "    AI_DEFAULT_EMBEDDING_MODEL = \"bge_m3_model\""
   ]
  },
  {
   "cell_type": "markdown",
   "id": "45dd1724",
   "metadata": {},
   "source": [
    "## Instantiation\n",
    "\n",
    "Now we can instantiate our model object and generate chat completions:\n"
   ]
  },
  {
   "cell_type": "code",
   "execution_count": null,
   "id": "9ea7a09b",
   "metadata": {},
   "outputs": [],
   "source": [
    "from langchain_community.embeddings.lindorm_embedding import LindormAIEmbeddings\n",
    "\n",
    "embedding = LindormAIEmbeddings(\n",
    "    endpoint=Config.AI_LLM_ENDPOINT,\n",
    "    username=Config.AI_USERNAME,\n",
    "    password=Config.AI_PWD,\n",
    "    model_name=Config.AI_DEFAULT_EMBEDDING_MODEL,\n",
    ")"
   ]
  },
  {
   "cell_type": "markdown",
   "id": "77d271b6",
   "metadata": {},
   "source": [
    "## Indexing and Retrieval\n",
    "\n",
    "Embedding models are often used in retrieval-augmented generation (RAG) flows, both as part of indexing data as well as later retrieving it. For more detailed instructions, please see our RAG tutorials under the [working with external knowledge tutorials](/docs/tutorials/#working-with-external-knowledge).\n",
    "\n",
    "Below, see how to index and retrieve data using the `embeddings` object we initialized above. In this example, we will index and retrieve a sample document in the `InMemoryVectorStore`."
   ]
  },
  {
   "cell_type": "code",
   "execution_count": null,
   "id": "d817716b",
   "metadata": {},
   "outputs": [],
   "source": [
    "# Create a vector store with a sample text\n",
    "from langchain_core.vectorstores import InMemoryVectorStore\n",
    "\n",
    "text = \"LangChain is the framework for building context-aware reasoning applications\"\n",
    "\n",
    "vectorstore = InMemoryVectorStore.from_texts(\n",
    "    [text],\n",
    "    embedding=embedding,\n",
    ")\n",
    "\n",
    "retriever = vectorstore.as_retriever()\n",
    "\n",
    "# Retrieve the most similar\n",
    "retrieved_documents = retriever.invoke(\"What is LangChain?\")\n",
    "\n",
    "retrieved_documents[0].page_content"
   ]
  },
  {
   "cell_type": "markdown",
   "id": "e02b9855",
   "metadata": {},
   "source": [
    "## Direct Usage\n",
    "\n",
    "Under the hood, the vectorstore and retriever implementations are calling `embeddings.embed_documents(...)` and `embeddings.embed_query(...)` to create embeddings for the text(s) used in `from_texts` and retrieval `invoke` operations, respectively.\n",
    "\n",
    "You can directly call these methods to get embeddings for your own use cases.\n",
    "\n",
    "### Embed single texts\n",
    "\n",
    "You can embed single texts or documents with `embed_query`:"
   ]
  },
  {
   "cell_type": "code",
   "execution_count": null,
   "id": "0d2befcd",
   "metadata": {},
   "outputs": [],
   "source": [
    "single_vector = embedding.embed_query(text)\n",
    "print(str(single_vector)[:100])  # Show the first 100 characters of the vector"
   ]
  },
  {
   "cell_type": "markdown",
   "id": "1b5a7d03",
   "metadata": {},
   "source": [
    "### Embed multiple texts\n",
    "\n",
    "You can embed multiple texts with `embed_documents`:"
   ]
  },
  {
   "cell_type": "code",
   "execution_count": null,
   "id": "2f4d6e97",
   "metadata": {},
   "outputs": [],
   "source": [
    "text2 = (\n",
    "    \"LangGraph is a library for building stateful, multi-actor applications with LLMs\"\n",
    ")\n",
    "two_vectors = embedding.embed_documents([text, text2])\n",
    "for vector in two_vectors:\n",
    "    print(str(vector)[:100])  # Show the first 100 characters of the vector"
   ]
  },
  {
   "cell_type": "markdown",
   "id": "98785c12",
   "metadata": {},
   "source": [
    "## API Reference\n",
    "\n",
    "For detailed documentation of all ChatLindorm features and configurations head to the API reference:https://help.aliyun.com/document_detail/2399103.html?spm=a2c4g.11186623.help-menu-172543.d_2_7_0.1d256755XS4nrM "
   ]
  }
 ],
 "metadata": {
  "kernelspec": {
   "display_name": "Python 3 (ipykernel)",
   "language": "python",
   "name": "python3"
  },
  "language_info": {
   "codemirror_mode": {
    "name": "ipython",
    "version": 3
   },
   "file_extension": ".py",
   "mimetype": "text/x-python",
   "name": "python",
   "nbconvert_exporter": "python",
   "pygments_lexer": "ipython3",
   "version": "3.10.5"
  }
 },
 "nbformat": 4,
 "nbformat_minor": 5
}
