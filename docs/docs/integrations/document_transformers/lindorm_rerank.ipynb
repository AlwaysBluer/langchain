{
 "cells": [
  {
   "cell_type": "markdown",
   "id": "523df0e8eedb99be",
   "metadata": {},
   "source": "# Lindorm Reranker"
  },
  {
   "cell_type": "markdown",
   "id": "122a93532279c17b",
   "metadata": {},
   "source": "This notebook shows how to use Jina Reranker for document compression and retrieval."
  },
  {
   "cell_type": "code",
   "execution_count": null,
   "id": "176210eb42e7915",
   "metadata": {},
   "outputs": [],
   "source": [
    "import os\n",
    "\n",
    "\n",
    "class Config:\n",
    "    AI_LLM_ENDPOINT = os.environ.get(\"AI_LLM_ENDPOINT\", \"<LLM_ENDPOINT>\")\n",
    "    AI_USERNAME = os.environ.get(\"AI_USERNAME\", \"root\")\n",
    "    AI_PWD = os.environ.get(\"AI_PASSWORD\", \"<PASSWORD>\")\n",
    "\n",
    "    AI_DEFAULT_RERANK_MODEL = \"rerank_bge_v2_m3\""
   ]
  },
  {
   "cell_type": "code",
   "execution_count": null,
   "id": "a22930d7744c8e60",
   "metadata": {},
   "outputs": [],
   "source": [
    "from langchain_community.document_compressors.lindormai_rerank import LindormAIRerank\n",
    "\n",
    "reranker = LindormAIRerank(\n",
    "    endpoint=Config.AI_LLM_ENDPOINT,\n",
    "    username=Config.AI_USERNAME,\n",
    "    password=Config.AI_PWD,\n",
    "    model_name=Config.AI_DEFAULT_RERANK_MODEL,\n",
    "    max_workers=5,\n",
    "    client=None,\n",
    ")"
   ]
  },
  {
   "cell_type": "code",
   "execution_count": null,
   "id": "13a2980d1d85cfb1",
   "metadata": {},
   "outputs": [],
   "source": [
    "from langchain_core.documents import Document\n",
    "\n",
    "docs = [\n",
    "    Document(page_content=\"量子计算是计算科学的一个前沿领域\"),\n",
    "    Document(page_content=\"预训练语言模型的发展给文本排序模型带来了新的进展\"),\n",
    "    Document(\n",
    "        page_content=\"文本排序模型广泛用于搜索引擎和推荐系统中，它们根据文本相关性对候选文本进行排序\"\n",
    "    ),\n",
    "    Document(page_content=\"random text for nothing\"),\n",
    "]\n",
    "\n",
    "\n",
    "def pretty_print_docs(docs):\n",
    "    print(\n",
    "        f\"\\n{'-' * 100}\\n\".join(\n",
    "            [f\"Document {i+1}:\\n\\n\" + d.page_content for i, d in enumerate(docs)]\n",
    "        )\n",
    "    )"
   ]
  },
  {
   "cell_type": "code",
   "execution_count": null,
   "id": "e39a20e8afda2175",
   "metadata": {},
   "outputs": [],
   "source": [
    "docs = reranker.compress_documents(\n",
    "    query=\"什么是文本排序模型\",\n",
    "    documents=docs,\n",
    ")\n",
    "\n",
    "pretty_print_docs(docs)"
   ]
  }
 ],
 "metadata": {
  "kernelspec": {
   "display_name": "Python 3",
   "language": "python",
   "name": "python3"
  },
  "language_info": {
   "codemirror_mode": {
    "name": "ipython",
    "version": 2
   },
   "file_extension": ".py",
   "mimetype": "text/x-python",
   "name": "python",
   "nbconvert_exporter": "python",
   "pygments_lexer": "ipython2",
   "version": "2.7.6"
  }
 },
 "nbformat": 4,
 "nbformat_minor": 5
}
