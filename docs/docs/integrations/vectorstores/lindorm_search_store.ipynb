{
 "cells": [
  {
   "cell_type": "markdown",
   "metadata": {},
   "source": [
    "## Lindorm\n",
    "The cloud-native multimodal database Lindorm from alibaba-cloud provides storage, indexing, and retrieval services for massive vector data. It supports various indexing algorithms and distance functions, as well as a rich set of fusion retrieval methods. It not only offers the necessary full-text and vector fusion retrieval capabilities for large model RAG systems, enhancing the accuracy of large model responses, but is also applicable to various AI business scenarios such as personalized recommendations, NLP services, and intelligent Q&A.\n",
    "\n",
    "This notebook covers how to get started with One-stop AI + Vector Retrieval Service"
   ]
  },
  {
   "cell_type": "code",
   "metadata": {
    "ExecuteTime": {
     "end_time": "2024-07-25T04:57:52.456228Z",
     "start_time": "2024-07-25T04:57:52.124590Z"
    }
   },
   "source": [
    "from langchain_community.embeddings.lindorm_embedding import LindormAIEmbeddings\n",
    "import environs\n",
    "\n",
    "env = environs.Env()\n",
    "env.read_env(\".env\")\n",
    "\n",
    "\n",
    "class Config:\n",
    "\n",
    "    AI_EMB_ENDPOINT = env.str(\"AI_EMB_ENDPOINT\", '<EMB_ENDPOINT>')\n",
    "    AI_USERNAME = env.str(\"AI_USERNAME\", 'root')\n",
    "    AI_PWD = env.str(\"AI_PWD\", '<PASSWORD>')\n",
    "\n",
    "    AI_DEFAULT_RERANK_MODEL = \"rerank_bge_large\"\n",
    "    AI_DEFAULT_EMBEDDING_MODEL = \"bge-large-zh-v1.5\"\n",
    "    SEARCH_ENDPOINT = env.str(\"SEARCH_ENDPOINT\", 'SEARCH_ENDPOINT')\n",
    "    SEARCH_USERNAME = env.str(\"SEARCH_USERNAME\", 'root')\n",
    "    SEARCH_PWD = env.str(\"SEARCH_PWD\", '<PASSWORD>')\n",
    "\n",
    "ldai_emb = LindormAIEmbeddings(\n",
    "    endpoint=Config.AI_EMB_ENDPOINT, \n",
    "    username=Config.AI_USERNAME, \n",
    "    password=Config.AI_PWD, \n",
    "    model_name=Config.AI_DEFAULT_EMBEDDING_MODEL)"
   ],
   "execution_count": 1,
   "outputs": []
  },
  {
   "cell_type": "markdown",
   "metadata": {},
   "source": [
    "## Define Helper functions"
   ]
  },
  {
   "cell_type": "code",
   "metadata": {
    "ExecuteTime": {
     "end_time": "2024-07-25T04:57:55.047558Z",
     "start_time": "2024-07-25T04:57:55.043989Z"
    }
   },
   "source": [
    "# Helper function for printing docs\n",
    "def pretty_print_docs(docs):\n",
    "    print(\n",
    "        f\"\\n{'-' * 100}\\n\".join(\n",
    "            [f\"Document {i+1}:\\n\\n\" + d.page_content + \"\\n\\n Metadata: \" + str(d.metadata) for i, d in enumerate(docs)]\n",
    "        )\n",
    "    )\n",
    "\n",
    "def pretty_print_docs_with_score(docs_with_score):\n",
    "    print(\n",
    "        f\"\\n{'-' * 100}\\n\".join(\n",
    "            [f\"Document {i+1}:\\n\\n\" + t[0].page_content + \"\\n\\n Metadata: \" + str(t[0].metadata) + f\", score: {t[1]}\" for i, t in enumerate(docs_with_score)]\n",
    "        )\n",
    "    )"
   ],
   "execution_count": 2,
   "outputs": []
  },
  {
   "cell_type": "markdown",
   "metadata": {},
   "source": [
    "## Load Document & Chunking"
   ]
  },
  {
   "cell_type": "code",
   "metadata": {
    "ExecuteTime": {
     "end_time": "2024-07-25T04:57:58.154233Z",
     "start_time": "2024-07-25T04:57:58.134077Z"
    }
   },
   "source": [
    "from langchain_text_splitters import CharacterTextSplitter\n",
    "from langchain_community.document_loaders import TextLoader\n",
    "\n",
    "\n",
    "loader = TextLoader('baike_documents.txt')\n",
    "documents = loader.load()\n",
    "text_splitter = CharacterTextSplitter(chunk_size=100, chunk_overlap=0)\n",
    "docs = text_splitter.split_documents(documents)\n",
    "\n",
    "print(\"chunk_ids: \", len(docs))\n",
    "pretty_print_docs(docs[0:1])"
   ],
   "execution_count": 3,
   "outputs": []
  },
  {
   "cell_type": "markdown",
   "metadata": {},
   "source": [
    "# Adding metadata to documents"
   ]
  },
  {
   "cell_type": "code",
   "metadata": {
    "ExecuteTime": {
     "end_time": "2024-07-25T05:04:18.429899Z",
     "start_time": "2024-07-25T05:04:18.426289Z"
    }
   },
   "source": [
    "import copy\n",
    "USE_ROUTE = False \n",
    "if USE_ROUTE:\n",
    "    docs = [copy.deepcopy(doc) for doc in docs for _ in range(100)] # train ivfpq need data > max(256, nlist), nlist default to 1000\n",
    "print(\"total doc:\", len(docs))# 1100\n",
    "    \n",
    "for i, doc in enumerate(docs):\n",
    "    doc.metadata[\"chunk_id\"] = i\n",
    "    doc.metadata[\"date\"] = f\"{range(2010, 2020)[i % 10]}-01-01\"\n",
    "    doc.metadata[\"rating\"] = range(1, 6)[i % 5]\n",
    "    doc.metadata[\"author\"] = [\"John Doe\", \"Jane Doe\"][i % 2]\n",
    "    doc.metadata[\"routing\"] =  str(i % 2)\n",
    "\n",
    "pretty_print_docs(docs[0:1])"
   ],
   "execution_count": 9,
   "outputs": []
  },
  {
   "cell_type": "markdown",
   "metadata": {},
   "source": [
    "## Configure Lindorm Search Vector Store & Index the documents"
   ]
  },
  {
   "cell_type": "code",
   "metadata": {
    "ExecuteTime": {
     "end_time": "2024-07-25T05:35:01.978601Z",
     "start_time": "2024-07-25T05:35:01.664405Z"
    }
   },
   "source": [
    "from langchain_community.vectorstores.lindorm_search_store import LindormSearchStore\n",
    "\n",
    "LDSEARCH_ENDPOINT = Config.SEARCH_ENDPOINT\n",
    "LDSEARCH_USERNAME = Config.SEARCH_USERNAME\n",
    "LDSEARCH_PWD = Config.SEARCH_PWD\n",
    "\n",
    "\n",
    "if USE_ROUTE:\n",
    "    INDEX_NAME='search_route_test_idx'\n",
    "    ld_search_store = LindormSearchStore.from_documents(\n",
    "        docs,\n",
    "        lindorm_search_url=LDSEARCH_ENDPOINT,\n",
    "        index_name=INDEX_NAME,\n",
    "        embedding=ldai_emb,\n",
    "        http_auth=(LDSEARCH_USERNAME, LDSEARCH_PWD),\n",
    "        use_ssl=False,\n",
    "        verify_certs=False,\n",
    "        ssl_assert_hostname=False,\n",
    "        ssl_show_warn=False,\n",
    "        timeout=60,\n",
    "        embed_thread_num=2, # text -> embedding thread num\n",
    "        write_thread_num=5, # embedding ingest thread num\n",
    "        pool_maxsize=10, # search client pool size\n",
    "        analyzer=\"ik_smart\", # search's text analyzer\n",
    "        routing_field=\"routing\", # specify metadata[\"routing\"] as routing_field\n",
    "        space_type=\"cosinesimil\", # others: l2, innerproduct\n",
    "        dimension=1024, # modify when embedding model change\n",
    "        data_type=\"float\", \n",
    "        method_name=\"ivfpq\",\n",
    "        # following args for ivfpq index\n",
    "        nlist=32, # > 1000 by default\n",
    "    )\n",
    "else:\n",
    "    INDEX_NAME='search_test_idx'\n",
    "    ld_search_store = LindormSearchStore.from_documents(\n",
    "        docs,\n",
    "        lindorm_search_url=LDSEARCH_ENDPOINT,\n",
    "        index_name=INDEX_NAME,\n",
    "        embedding=ldai_emb,\n",
    "        http_auth=(LDSEARCH_USERNAME, LDSEARCH_PWD),\n",
    "        use_ssl=False,\n",
    "        verify_certs=False,\n",
    "        ssl_assert_hostname=False,\n",
    "        ssl_show_warn=False,\n",
    "        timeout=60,\n",
    "        embed_thread_num=2, # text -> embedding thread num\n",
    "        write_thread_num=5, # embedding ingest thread num\n",
    "        pool_maxsize=10, # search client pool size\n",
    "        analyzer=\"ik_smart\", # search's text analyzer\n",
    "        data_type=\"float\", # datatype\n",
    "        space_type=\"cosinesimil\", # others: l2, innerproduct\n",
    "        dimension=1024, # modify when embedding model change\n",
    "        method_name=\"hnsw\"\n",
    "    )"
   ],
   "execution_count": 12,
   "outputs": []
  },
  {
   "cell_type": "markdown",
   "metadata": {},
   "source": [
    "## Configure Lindorm Search Vector Store & Index the documents with ChunkId"
   ]
  },
  {
   "cell_type": "code",
   "metadata": {
    "ExecuteTime": {
     "end_time": "2024-07-23T02:37:42.072327Z",
     "start_time": "2024-07-23T02:37:41.938632Z"
    }
   },
   "source": [
    "from langchain_community.vectorstores.lindorm_search_store import LindormSearchStore\n",
    "\n",
    "LDSEARCH_ENDPOINT=Config.SEARCH_ENDPOINT\n",
    "LDSEARCH_USERNAME=Config.SEARCH_USERNAME\n",
    "LDSEARCH_PWD=Config.SEARCH_PWD\n",
    "\n",
    "\n",
    "if USE_ROUTE:\n",
    "    INDEX_NAME='search_route_test_idx'\n",
    "    ld_search_store = LindormSearchStore.from_documents(\n",
    "        docs,\n",
    "        ids=[str(d.metadata[\"chunk_id\"]) for d in docs],\n",
    "        lindorm_search_url=LDSEARCH_ENDPOINT,\n",
    "        index_name=INDEX_NAME,\n",
    "        embedding=ldai_emb,\n",
    "        http_auth=(LDSEARCH_USERNAME, LDSEARCH_PWD),\n",
    "        use_ssl=False,\n",
    "        verify_certs=False,\n",
    "        ssl_assert_hostname=False,\n",
    "        ssl_show_warn=False,\n",
    "        timeout=60,\n",
    "        embed_thread_num=2, # text -> embedding thread num\n",
    "        write_thread_num=5, # embedding ingest thread num\n",
    "        pool_maxsize=10, # search client pool size\n",
    "        analyzer=\"ik_smart\", # search's text analyzer \n",
    "        routing_field=\"routing\", # specify metadata[\"routing\"] as routing_field\n",
    "        space_type=\"cosinesimil\", # others: l2, innerproduct\n",
    "        dimension=1024, # modify when embedding model change\n",
    "        data_type=\"float\", \n",
    "        method_name=\"ivfpq\", # route index support only ivfpq\n",
    "        overwrite=False,  # ignore doc when _id existed, overwrite when True\n",
    "        # following args for ivfpq index\n",
    "        nlist=32, # > 1000 by default\n",
    "    )\n",
    "else:\n",
    "    INDEX_NAME='search_test_idx'\n",
    "    ld_search_store = LindormSearchStore.from_documents(\n",
    "        docs,\n",
    "        ids=[str(d.metadata[\"chunk_id\"]) for d in docs],\n",
    "        lindorm_search_url=LDSEARCH_ENDPOINT,\n",
    "        index_name=INDEX_NAME,\n",
    "        embedding=ldai_emb,\n",
    "        http_auth=(LDSEARCH_USERNAME, LDSEARCH_PWD),\n",
    "        use_ssl=False,\n",
    "        verify_certs=False,\n",
    "        ssl_assert_hostname=False,\n",
    "        ssl_show_warn=False,\n",
    "        timeout=60,\n",
    "        embed_thread_num=2, # text -> embedding thread num\n",
    "        write_thread_num=5, # embedding ingest thread num\n",
    "        pool_maxsize=10, # search client pool size\n",
    "        analyzer=\"ik_smart\", # search's text analyzer \n",
    "        data_type=\"float\", # datatype\n",
    "        space_type=\"cosinesimil\", # others: l2, innerproduct\n",
    "        dimension=1024, # modify when embedding model change\n",
    "        method_name=\"hnsw\",\n",
    "        overwrite=False  # ignore doc when _id existed, overwrite when True\n",
    "    )"
   ],
   "execution_count": 6,
   "outputs": []
  },
  {
   "cell_type": "markdown",
   "metadata": {},
   "source": [
    "## Routing"
   ]
  },
  {
   "cell_type": "code",
   "metadata": {
    "ExecuteTime": {
     "end_time": "2024-07-23T02:37:42.075260Z",
     "start_time": "2024-07-23T02:37:42.073195Z"
    }
   },
   "source": [
    "if USE_ROUTE:\n",
    "    assert ld_search_store.kwargs.get(\"method_name\") == \"ivfpq\"\n",
    "    assert ld_search_store.kwargs.get(\"routing_field\") is not None\n",
    "\n",
    "    query = \"辛弃疾的纪念馆在哪里？\"\n",
    "    docs_with_score = ld_search_store.similarity_search_with_score(query=query,\n",
    "                                                                   routing=\"0\", # \"0\" or \"1\"\n",
    "                                                                   k=5,\n",
    "                                                                   hybrid=True,\n",
    "                                                                   nprobe=\"200\",\n",
    "                                                                   reorder_factor=\"2\",\n",
    "                                                                   client_refactor=\"true\")\n",
    "    print(docs_with_score[0:1])"
   ],
   "execution_count": 7,
   "outputs": []
  },
  {
   "cell_type": "markdown",
   "metadata": {},
   "source": [
    "## Dense vector search"
   ]
  },
  {
   "cell_type": "code",
   "metadata": {
    "ExecuteTime": {
     "end_time": "2024-07-23T02:37:42.708992Z",
     "start_time": "2024-07-23T02:37:42.075992Z"
    }
   },
   "source": [
    "if not USE_ROUTE:\n",
    "    query = \"辛弃疾的纪念馆在哪里？\"\n",
    "    #docs = ld_search_store.similarity_search(query, k=10)\n",
    "    #pretty_print_docs(docs)\n",
    "\n",
    "    docs_with_score = ld_search_store.similarity_search_with_score(query, k=10, hybrid=True,  rrf_rank_constant=\"60\", _source=True)\n",
    "    print(docs_with_score)\n",
    "    pretty_print_docs_with_score(docs_with_score[0:1])"
   ],
   "execution_count": 8,
   "outputs": []
  },
  {
   "cell_type": "markdown",
   "metadata": {},
   "source": [
    "## Dense vector search with metadata filtering"
   ]
  },
  {
   "cell_type": "code",
   "metadata": {
    "ExecuteTime": {
     "end_time": "2024-07-23T02:37:45.042380Z",
     "start_time": "2024-07-23T02:37:42.710210Z"
    }
   },
   "source": [
    "query = \"辛弃疾\"\n",
    "#Filter by Partial Match\n",
    "docs = ld_search_store.similarity_search(query, k=10, filter=[{\"match\": {\"metadata.author\": {\"query\": \"Jon\", \"fuzziness\": \"AUTO\"}}}])\n",
    "print(docs[0].metadata['author'])\n",
    "#Filter by Date Range\n",
    "docs = ld_search_store.similarity_search(query, k=10, filter=[{\"range\": {\"metadata.date\": {\"gte\": \"2016-01-01\"}}}])\n",
    "print(docs[0].metadata['date'])\n",
    "#Filter by Numeric Range\n",
    "docs = ld_search_store.similarity_search(query, k=10, filter=[{\"range\": {\"metadata.rating\": {\"gte\": 3}}}])\n",
    "print(docs[0].metadata['rating'])\n",
    "\n",
    "#pre_filter\n",
    "docs = ld_search_store.similarity_search(query, k=10, filter=[{\"range\": {\"metadata.rating\": {\"gte\": 3}}}], filter_type=\"pre_filter\")\n",
    "print(docs[0].metadata['rating'])\n",
    "\n",
    "#post_filter\n",
    "docs = ld_search_store.similarity_search(query, k=10, filter=[{\"range\": {\"metadata.rating\": {\"gte\": 3}}}], filter_type=\"post_filter\")\n",
    "print(docs[0].metadata['rating'])"
   ],
   "execution_count": 9,
   "outputs": []
  },
  {
   "cell_type": "markdown",
   "metadata": {},
   "source": [
    "## Full text search"
   ]
  },
  {
   "cell_type": "code",
   "metadata": {
    "ExecuteTime": {
     "end_time": "2024-07-23T02:37:45.173760Z",
     "start_time": "2024-07-23T02:37:45.044122Z"
    }
   },
   "source": [
    "query = \"辛弃疾的纪念馆在哪里？\"\n",
    "#docs = ld_search_store.similarity_search(query, k=10, search_type=\"text_search\")\n",
    "#pretty_print_docs(docs)\n",
    "\n",
    "docs_with_score = ld_search_store.similarity_search_with_score(query, k=10, search_type=\"text_search\")\n",
    "pretty_print_docs_with_score(docs_with_score)"
   ],
   "execution_count": 10,
   "outputs": []
  },
  {
   "cell_type": "markdown",
   "metadata": {},
   "source": [
    "## Full text search with metadata filtering"
   ]
  },
  {
   "cell_type": "code",
   "metadata": {
    "ExecuteTime": {
     "end_time": "2024-07-23T02:37:45.812561Z",
     "start_time": "2024-07-23T02:37:45.174833Z"
    }
   },
   "source": [
    "query = \"辛弃疾\"\n",
    "#Filter by Partial Match\n",
    "docs = ld_search_store.similarity_search(query, k=10, search_type=\"text_search\", filter=[{\"match\": {\"metadata.author\": {\"query\": \"Jon\", \"fuzziness\": \"AUTO\"}}}])\n",
    "print(docs[0].metadata['author'])\n",
    "#Filter by Date Range\n",
    "docs = ld_search_store.similarity_search(query, k=10, search_type=\"text_search\", filter=[{\"range\": {\"metadata.date\": {\"gte\": \"2016-01-01\"}}}])\n",
    "print(docs[0].metadata['date'])\n",
    "#Filter by Numeric Range\n",
    "docs = ld_search_store.similarity_search(query, k=10, search_type=\"text_search\", filter=[{\"range\": {\"metadata.rating\": {\"gte\": 3}}}])\n",
    "print(docs[0].metadata['rating'])\n",
    "\n",
    "#pre_filter\n",
    "docs = ld_search_store.similarity_search(query, k=10, search_type=\"text_search\", filter=[{\"range\": {\"metadata.rating\": {\"gte\": 3}}}], filter_type=\"pre_filter\")\n",
    "print(docs[0].metadata['rating'])\n",
    "\n",
    "#post_filter\n",
    "docs = ld_search_store.similarity_search(query, k=10, search_type=\"text_search\", filter=[{\"range\": {\"metadata.rating\": {\"gte\": 3}}}], filter_type=\"post_filter\")\n",
    "print(docs[0].metadata['rating'])"
   ],
   "execution_count": 11,
   "outputs": []
  },
  {
   "metadata": {},
   "cell_type": "markdown",
   "source": "## Hybrid retrieval with dense vector & keyword search"
  },
  {
   "cell_type": "code",
   "metadata": {
    "ExecuteTime": {
     "end_time": "2024-07-23T02:37:46.281703Z",
     "start_time": "2024-07-23T02:37:45.813442Z"
    }
   },
   "source": [
    "query = \"辛弃疾是谁？\"\n",
    "#docs = ld_search_store.similarity_search(query, k=10, hybrid=True, rrf_rank_constant=\"60\")\n",
    "#pretty_print_docs(docs)\n",
    "\n",
    "docs_with_score = ld_search_store.similarity_search_with_score(query, k=10, hybrid=True, rrf_rank_constant=\"60\")\n",
    "pretty_print_docs_with_score(docs_with_score)"
   ],
   "execution_count": 12,
   "outputs": []
  },
  {
   "cell_type": "markdown",
   "metadata": {},
   "source": [
    "## Reranking with LindormAIRerank"
   ]
  },
  {
   "cell_type": "code",
   "metadata": {
    "ExecuteTime": {
     "end_time": "2024-07-23T02:37:47.321007Z",
     "start_time": "2024-07-23T02:37:46.283032Z"
    }
   },
   "source": [
    "\n",
    "from langchain.retrievers import ContextualCompressionRetriever\n",
    "from langchain_community.document_compressors.lindormai_rerank import LindormAIRerank\n",
    "\n",
    "ldai_rerank = LindormAIRerank(endpoint=Config.AI_EMB_ENDPOINT, username=Config.AI_USERNAME, password=Config.AI_PWD, model_name=Config.AI_DEFAULT_RERANK_MODEL)\n",
    "compression_retriever = ContextualCompressionRetriever(\n",
    "    base_compressor=ldai_rerank, base_retriever=ld_search_store.as_retriever()\n",
    ")\n",
    "\n",
    "compressed_docs = compression_retriever.invoke(\n",
    "    \"辛弃疾的纪念馆在哪里？\"\n",
    ")\n",
    "pretty_print_docs(compressed_docs)"
   ],
   "execution_count": 13,
   "outputs": []
  },
  {
   "cell_type": "markdown",
   "metadata": {},
   "source": [
    "## Delete Index"
   ]
  },
  {
   "cell_type": "code",
   "metadata": {
    "ExecuteTime": {
     "end_time": "2024-07-23T02:38:13.356624Z",
     "start_time": "2024-07-23T02:37:47.324587Z"
    }
   },
   "source": [
    "ld_search_store.delete_index()"
   ],
   "execution_count": 14,
   "outputs": []
  }
 ],
 "metadata": {
  "kernelspec": {
   "display_name": "Python 3 (ipykernel)",
   "language": "python",
   "name": "python3"
  },
  "language_info": {
   "codemirror_mode": {
    "name": "ipython",
    "version": 3
   },
   "file_extension": ".py",
   "mimetype": "text/x-python",
   "name": "python",
   "nbconvert_exporter": "python",
   "pygments_lexer": "ipython3",
   "version": "3.12.3"
  }
 },
 "nbformat": 4,
 "nbformat_minor": 4
}
