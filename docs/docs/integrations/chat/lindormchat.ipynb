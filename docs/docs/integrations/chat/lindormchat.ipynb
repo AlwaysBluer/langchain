{
 "cells": [
  {
   "cell_type": "raw",
   "id": "afaf8039",
   "metadata": {},
   "source": [
    "---\n",
    "sidebar_label: Lindorm\n",
    "---"
   ]
  },
  {
   "cell_type": "markdown",
   "id": "e49f1e0d",
   "metadata": {},
   "source": [
    "# ChatLindorm\n",
    "\n",
    "\n",
    "This will help you to get started with Lindorm chat models. For detailed documentation of all ChatLindorm features and configurations head to the [API reference](https://help.aliyun.com/document_detail/2399103.html?spm=a2c4g.11186623.help-menu-172543.d_2_7_0.1d256755XS4nrM).\n",
    "\n",
    "\n",
    "## Overview\n",
    "### Integration details\n",
    "\n",
    "\n",
    "| Class | Package     | Local | Serializable | \n",
    "| :--- |:------------| :---: | :---: |\n",
    "| [ChatLindorm](https://api.python.langchain.com/en/latest/chat_models/langchain_lindormchat.chat_models.ChatLindorm.html) | ChatLindorm | ✅/❌ | beta/❌ | ✅/❌ | ![PyPI - Downloads](https://img.shields.io/pypi/dm/langchain-lindormchat?style=flat-square&label=%20) | ![PyPI - Version](https://img.shields.io/pypi/v/langchain-lindormchat?style=flat-square&label=%20) |\n",
    "\n",
    "## Setup\n",
    "\n",
    "To access Lindorm models you'll need to deploy a Lindorm instance, configuring you Lindorm AK ans SK.\n",
    "\n",
    "### Credentials\n",
    "You can get you credentials in the [console](https://lindorm.console.aliyun.com/cn-hangzhou/clusterhou/cluster?spm=a2c4g.11186623.0.0.466534e93Xj6tt)\n"
   ]
  },
  {
   "cell_type": "code",
   "execution_count": null,
   "id": "433e8d2b-9519-4b49-b2c4-7ab65b046c94",
   "metadata": {},
   "outputs": [],
   "source": [
    "import os\n",
    "\n",
    "\n",
    "class Config:\n",
    "    AI_CHAT_LLM_ENDPOINT = os.environ.get(\"AI_CHAT_LLM_ENDPOINT\", \"<CHAT_ENDPOINT>\")\n",
    "    AI_CHAT_USERNAME = os.environ.get(\"AI_CHAT_USERNAME\", \"root\")\n",
    "    AI_CHAT_PWD = os.environ.get(\"AI_CHAT_PWD\", \"<PASSWORD>\")\n",
    "    AI_DEFAULT_CHAT_MODEL = \"qa_model_qwen_72b_chat\""
   ]
  },
  {
   "cell_type": "markdown",
   "id": "a38cde65-254d-4219-a441-068766c0d4b5",
   "metadata": {},
   "source": [
    "## Instantiation\n",
    "\n",
    "Now we can instantiate our model object and generate chat completions:\n"
   ]
  },
  {
   "cell_type": "code",
   "execution_count": null,
   "id": "cb09c344-1836-4e0c-acf8-11d13ac1dbae",
   "metadata": {},
   "outputs": [],
   "source": [
    "from langchain_community.chat_models.lindorm_chat import ChatLindormAI\n",
    "\n",
    "ldai = ChatLindormAI(\n",
    "    model_name=Config.AI_DEFAULT_CHAT_MODEL,\n",
    "    endpoint=Config.AI_CHAT_LLM_ENDPOINT,\n",
    "    username=Config.AI_CHAT_USERNAME,\n",
    "    password=Config.AI_CHAT_PWD,\n",
    ")\n",
    "question = \"你好\""
   ]
  },
  {
   "cell_type": "markdown",
   "id": "2b4f3e15",
   "metadata": {},
   "source": [
    "## Invocation\n",
    "\n",
    "Run cells so output can be seen."
   ]
  },
  {
   "cell_type": "code",
   "execution_count": null,
   "id": "62e0dbc3",
   "metadata": {
    "tags": []
   },
   "outputs": [],
   "source": [
    "messages = [\n",
    "    (\n",
    "        \"system\",\n",
    "        \"You are a helpful assistant that translates English to French. Translate the user sentence.\",\n",
    "    ),\n",
    "    (\"human\", \"I love programming.\"),\n",
    "]\n",
    "ai_msg = ldai.invoke(messages)\n",
    "ai_msg"
   ]
  },
  {
   "cell_type": "code",
   "execution_count": null,
   "id": "d86145b3-bfef-46e8-b227-4dda5c9c2705",
   "metadata": {},
   "outputs": [],
   "source": [
    "print(ai_msg.content)"
   ]
  },
  {
   "cell_type": "markdown",
   "id": "18e2bfc0-7e78-4528-a73f-499ac150dca8",
   "metadata": {},
   "source": [
    "## Chaining\n",
    "\n",
    "We can [chain](/docs/how_to/sequence/) our model with a prompt template like so:\n",
    "\n",
    "- TODO: Run cells so output can be seen."
   ]
  },
  {
   "cell_type": "code",
   "execution_count": null,
   "id": "e197d1d7-a070-4c96-9f8a-a0e86d046e0b",
   "metadata": {},
   "outputs": [],
   "source": [
    "from langchain_core.prompts import ChatPromptTemplate\n",
    "\n",
    "prompt = ChatPromptTemplate(\n",
    "    [\n",
    "        (\n",
    "            \"system\",\n",
    "            \"You are a helpful assistant that translates {input_language} to {output_language}.\",\n",
    "        ),\n",
    "        (\"human\", \"{input}\"),\n",
    "    ]\n",
    ")\n",
    "\n",
    "chain = prompt | ldai\n",
    "chain.invoke(\n",
    "    {\n",
    "        \"input_language\": \"English\",\n",
    "        \"output_language\": \"German\",\n",
    "        \"input\": \"I love programming.\",\n",
    "    }\n",
    ")"
   ]
  },
  {
   "cell_type": "markdown",
   "id": "d1ee55bc-ffc8-4cfa-801c-993953a08cfd",
   "metadata": {},
   "source": ""
  },
  {
   "cell_type": "markdown",
   "id": "3a5bb5ca-c3ae-4a58-be67-2cd18574b9a3",
   "metadata": {},
   "source": [
    "## API reference\n",
    "\n",
    "For detailed documentation of all ChatLindorm features and configurations head to the API reference:https://help.aliyun.com/document_detail/2399103.html?spm=a2c4g.11186623.help-menu-172543.d_2_7_0.1d256755XS4nrM "
   ]
  }
 ],
 "metadata": {
  "kernelspec": {
   "display_name": "Python 3 (ipykernel)",
   "language": "python",
   "name": "python3"
  },
  "language_info": {
   "codemirror_mode": {
    "name": "ipython",
    "version": 3
   },
   "file_extension": ".py",
   "mimetype": "text/x-python",
   "name": "python",
   "nbconvert_exporter": "python",
   "pygments_lexer": "ipython3",
   "version": "3.11.9"
  }
 },
 "nbformat": 4,
 "nbformat_minor": 5
}
